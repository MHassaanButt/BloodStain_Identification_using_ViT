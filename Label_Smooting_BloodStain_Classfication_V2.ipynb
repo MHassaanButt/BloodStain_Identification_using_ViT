{
 "cells": [
  {
   "cell_type": "markdown",
   "metadata": {
    "id": "iV3Pv8b4dVCx"
   },
   "source": [
    "# **Import Libraries**"
   ]
  },
  {
   "cell_type": "code",
   "execution_count": 1,
   "metadata": {
    "colab": {
     "base_uri": "https://localhost:8080/",
     "height": 86
    },
    "id": "VYFHwxzwT2AB",
    "outputId": "dfda9cec-4937-45d8-a353-c6e8ba998849"
   },
   "outputs": [],
   "source": [
    "# Colab Requirements\n",
    "# !pip install spectral\n",
    "# from google.colab import drive, files\n",
    "# drive.mount('/content/drive')\n",
    "## Basics\n",
    "import gc\n",
    "gc.collect()\n",
    "import warnings\n",
    "warnings.filterwarnings('ignore')\n",
    "import time\n",
    "# import numpy \n",
    "import numpy as np\n",
    "# import pandas as pd\n",
    "from PIL import Image\n",
    "from operator import truediv\n",
    "import scipy.io as sio\n",
    "import os\n",
    "# import seaborn as sns\n",
    "## Ploting\n",
    "# from plotly.offline import iplot, init_notebook_mode\n",
    "# import plotly.graph_objs as go\n",
    "from matplotlib.pyplot import cm\n",
    "import matplotlib.pyplot as plt\n",
    "# init_notebook_mode(connected=True)\n",
    "# %matplotlib inline\n",
    "## Sklearn \n",
    "import sklearn as sk\n",
    "from sklearn.model_selection import train_test_split\n",
    "from sklearn.metrics import confusion_matrix, accuracy_score, classification_report, cohen_kappa_score\n",
    "## Dimensionality Reduction Methods\n",
    "from sklearn.decomposition import PCA, IncrementalPCA, KernelPCA, SparsePCA, TruncatedSVD\n",
    "## Deep Model\n",
    "import keras, h5py\n",
    "from keras.layers import Input, Conv2D, Conv3D, Flatten, Dense, Reshape, Dropout\n",
    "#from plotly.offline import iplot, init_notebook_mode\n",
    "from keras.losses import categorical_crossentropy\n",
    "from keras.models import Sequential, Model\n",
    "from keras.utils import np_utils\n",
    "import tensorflow as tf\n",
    "from tensorflow.keras import models, layers\n",
    "from keras.utils.vis_utils import plot_model\n",
    "import keras\n",
    "from tensorflow.keras.optimizers import Adam\n",
    "import spectral.io.envi as envi"
   ]
  },
  {
   "cell_type": "markdown",
   "metadata": {
    "id": "MW5tM9Ivdk1Y"
   },
   "source": [
    "# **Loading Hyperspectral Datasets**"
   ]
  },
  {
   "cell_type": "code",
   "execution_count": 2,
   "metadata": {
    "id": "uiIpElfecJRr"
   },
   "outputs": [],
   "source": [
    "## Get HSI Data and Ground Truths\n",
    "## Get HSI Data\n",
    "path='../Datasets/HyperBlood/'\n",
    "def get_data(name,remove_bands=True,clean=True, path=path):\n",
    "    \"\"\"\n",
    "    Input: name: name; remove_bands: if True, noisy bands are removed (leaving 113 bands)\n",
    "    clean: if True, remove damaged line\n",
    "    Output: data, wavelenghts as numpy arrays (float32)\n",
    "    \"\"\"\n",
    "    name = convert_name(name)\n",
    "    filename = \"{}data/{}\".format(path,name)\n",
    "    hsimage = envi.open('{}.hdr'.format(filename),'{}.float'.format(filename))\n",
    "    wavs = np.asarray(hsimage.bands.centers) \n",
    "    data = np.asarray(hsimage[:,:,:],dtype=np.float32)\n",
    "    #removal of damaged sensor line\n",
    "    if clean and name!='F_2k':\n",
    "        data = np.delete(data,445,0)\n",
    "    if not remove_bands:\n",
    "        return data,wavs\n",
    "    return data[:,:,get_good_indices(name)],wavs[get_good_indices(name)]\n",
    "\n",
    "## Get Ground Truths\n",
    "def get_anno(name,remove_uncertain_blood=True,clean=True, path=path):\n",
    "    \"\"\"\n",
    "    Returns annotation (GT) for data files as 2D int numpy array\n",
    "    Classes: 0 - background; 1 - blood; 2 - ketchup; 3 - artificial blood; 4 - beetroot juice\n",
    "    5 - poster paint; 6 - tomato concentrate; 7 - acrtylic paint; 8 - uncertain blood;\n",
    "    Input: name: name; clean: if True, remove damaged line; \n",
    "    remove_uncertain_blood: if True, removes class 8 \n",
    "    Output: annotation as numpy 2D array \n",
    "    \"\"\"\n",
    "    name = convert_name(name)\n",
    "    filename = \"{}anno/{}\".format(path,name)\n",
    "    anno = np.load(filename+'.npz')['gt']\n",
    "    #removal of damaged sensor line\n",
    "    if clean and name!='F_2k':\n",
    "        anno = np.delete(anno,445,0)\n",
    "    #remove uncertain blood + technical classes\n",
    "    if remove_uncertain_blood:\n",
    "        anno[anno>7]=0\n",
    "    else:\n",
    "        anno[anno>8]=0\n",
    "    return anno\n",
    "\n",
    "\n",
    "def blood_loader(path, name):\n",
    "    \"\"\"\n",
    "    returns data and annotation, removing classes that are not present in all images\n",
    "    Input: path: data path; name: image name\n",
    "    Output:img: data cube; gt: annotation with correct classes; \n",
    "    rgb_bands: three bands used for rgb visualisation\n",
    "    ignored_labels: labels that should be ignored [0 for background] \n",
    "    label_values: class labels\n",
    "    \"\"\"\n",
    "    img = np.asarray(get_data(name, path=path)[0], dtype='float32')\n",
    "    gt = get_anno(name, path=path).astype('uint8')\n",
    "    # remove beetroot juice (is only on frames images so in our\n",
    "    # classification experiments we removed it from pictures)\n",
    "    gt = np.where(gt == 4, 0, gt)\n",
    "    # renumbering after removing beetroot juice\n",
    "    for element in [5, 6, 7]:\n",
    "        gt = np.where(gt == element, element - 1, gt)\n",
    "    label_values = [\"unclassified\",\n",
    "                    \"blood\",\n",
    "                    \"ketchup\",\n",
    "                    \"artificial blood\",\n",
    "                    \"poster paint\",\n",
    "                    \"tomato concentrate\",\n",
    "                    \"acrylic paint\"]\n",
    "    rgb_bands, ignored_labels = (47, 31, 15), [0]\n",
    "    return img, gt, rgb_bands, ignored_labels, label_values"
   ]
  },
  {
   "cell_type": "code",
   "execution_count": 3,
   "metadata": {
    "id": "XTwNvyv0CrkW"
   },
   "outputs": [],
   "source": [
    "def convert_name(name):\n",
    "    \"\"\"\n",
    "    Ensures that the name is in the filename format\n",
    "    Parameters: name: name\n",
    "    Output: cleaned name\n",
    "    \"\"\"\n",
    "    name = name.replace('(','_')\n",
    "    name = name.replace(')','')\n",
    "    return name\n",
    "\n",
    "def get_good_indices(name=None):\n",
    "    \"\"\"\n",
    "    Input: name: name\n",
    "    Output: numpy array of good indices         \n",
    "    \"\"\"\n",
    "    name = convert_name(name)\n",
    "    if name!='F_2k':\n",
    "        indices = np.arange(128)\n",
    "        indices = indices[5:-7]\n",
    "    else:\n",
    "        indices = np.arange(116)    \n",
    "    indices=np.delete(indices,[43,44,45])\n",
    "    return indices"
   ]
  },
  {
   "cell_type": "code",
   "execution_count": 4,
   "metadata": {
    "id": "7OKY2h4YScVI"
   },
   "outputs": [],
   "source": [
    "## Load HSI Dataset\n",
    "def LoadHSIData(method):\n",
    "    ## List of HSI Dataasets\n",
    "    HSI_list = ['A_1.hdr', 'B_1.hdr', 'C_1.hdr', 'D_1.hdr', 'E_1.hdr', 'E_7.hdr', \n",
    "                'E_21.hdr', 'F_1.hdr.hdr', 'F_1a.hdr', 'F_1s.hdr', 'F_2.hdr', \n",
    "                'F_2k.hdr', 'F_7.hdr', 'F_21.hdr']\n",
    "    Num_Classes=7            \n",
    "    for i in range(len(HSI_list)):\n",
    "        file_name = HSI_list[i].split('.')[0]\n",
    "        data_path = os.path.join(os.getcwd(),'../Datasets/HyperBlood/data'+str(file_name))\n",
    "        # print(data_path)\n",
    "        if os.path.exists(data_path) == False:\n",
    "            # print(\"Data file from %s to %s\" % (HSI_list[i], data_path))\n",
    "            # #urllib.request.urlretrieve(url=HSI_url[i], filename=data_path)\n",
    "            print(str(file_name)+\" is Successfully Found\")\n",
    "        else:\n",
    "            print(str(file_name) + \" already exist\")\n",
    "    data_path = os.path.join(os.getcwd(),'../Datasets/HyperBlood/data')\n",
    "    data_path1 = os.path.join(os.getcwd(),'../MyDrive/Datasets/HyperBlood/anno')\n",
    "    if method == 'A_1':\n",
    "        HSI = np.asarray(get_data(method, data_path)[0], dtype='float32')\n",
    "        GT = get_anno(method, data_path1).astype('uint8')\n",
    "    elif method == 'B_1':\n",
    "        HSI = np.asarray(get_data(method, data_path)[0], dtype='float32')\n",
    "        GT = get_anno(method, data_path1).astype('uint8')\n",
    "    elif method == 'C_1':\n",
    "        HSI = np.asarray(get_data(method, data_path)[0], dtype='float32')\n",
    "        GT = get_anno(method, data_path1).astype('uint8')\n",
    "    elif method == 'D_1':\n",
    "        HSI = np.asarray(get_data(method, data_path)[0], dtype='float32')\n",
    "        GT = get_anno(method, data_path1).astype('uint8')    \n",
    "    elif method == 'E_1':\n",
    "        HSI = np.asarray(get_data(method, data_path)[0], dtype='float32')\n",
    "        GT = get_anno(method, data_path1).astype('uint8')\n",
    "    elif method == 'E_7':\n",
    "        HSI = np.asarray(get_data(method, data_path)[0], dtype='float32')\n",
    "        GT = get_anno(method, data_path1).astype('uint8')\n",
    "    elif method == 'E_21':\n",
    "        HSI = np.asarray(get_data(method, data_path)[0], dtype='float32')\n",
    "        GT = get_anno(method, data_path1).astype('uint8')\n",
    "    elif method == 'F_1':\n",
    "        HSI = np.asarray(get_data(method, data_path)[0], dtype='float32')\n",
    "        GT = get_anno(method, data_path1).astype('uint8')\n",
    "    elif method == 'F_1a':\n",
    "        HSI = np.asarray(get_data(method, data_path)[0], dtype='float32')\n",
    "        GT = get_anno(method, data_path1).astype('uint8')\n",
    "    elif method == 'F_1s':\n",
    "        HSI = np.asarray(get_data(method, data_path)[0], dtype='float32')\n",
    "        GT = get_anno(method, data_path1).astype('uint8')\n",
    "    elif method == 'F_2':\n",
    "        HSI = np.asarray(get_data(method, data_path)[0], dtype='float32')\n",
    "        GT = get_anno(method, data_path1).astype('uint8')\n",
    "    elif method == 'F_2k':\n",
    "        HSI = np.asarray(get_data(method, data_path)[0], dtype='float32')\n",
    "        GT = get_anno(method, data_path1).astype('uint8')  \n",
    "    elif method == 'F_7':\n",
    "        HSI = np.asarray(get_data(method, data_path)[0], dtype='float32')\n",
    "        GT = get_anno(method, data_path1).astype('uint8')\n",
    "    elif method == 'F_21':\n",
    "        HSI = np.asarray(get_data(method, data_path)[0], dtype='float32')\n",
    "        GT = get_anno(method, data_path1).astype('uint8') \n",
    "    # remove beetroot juice (is only on frames images so in our\n",
    "    # classification experiments we removed it from pictures)\n",
    "    # GT = np.where(GT == 4, 0, GT)\n",
    "    # # renumbering after removing beetroot juice\n",
    "    # for element in [5, 6, 7]:\n",
    "    #     GT = np.where(GT == element, element - 1, GT)\n",
    "    # rgb_bands, ignored_labels = (47, 31, 15), [0]\n",
    "\n",
    "    return HSI, GT, Num_Classes"
   ]
  },
  {
   "cell_type": "markdown",
   "metadata": {
    "id": "gjzs4qCkfWFu"
   },
   "source": [
    "# **Dimension Reduction Methods**"
   ]
  },
  {
   "cell_type": "code",
   "execution_count": 5,
   "metadata": {
    "id": "UdNQxxanJuQz"
   },
   "outputs": [],
   "source": [
    "## Dimension Reduction\n",
    "def DLMethod(method, HSI, NC = 75):\n",
    "    RHSI = np.reshape(HSI, (-1, HSI.shape[2]))\n",
    "    if method == 'PCA': ## PCA\n",
    "        pca = PCA(n_components = NC, whiten = True)\n",
    "        RHSI = pca.fit_transform(RHSI)\n",
    "        RHSI = np.reshape(RHSI, (HSI.shape[0], HSI.shape[1], NC))\n",
    "    elif method == 'iPCA': ## Incremental PCA\n",
    "        n_batches = 256\n",
    "        inc_pca = IncrementalPCA(n_components = NC)\n",
    "        for X_batch in np.array_split(RHSI, n_batches):\n",
    "            inc_pca.partial_fit(X_batch)\n",
    "        X_ipca = inc_pca.transform(RHSI)\n",
    "        RHSI = np.reshape(X_ipca, (HSI.shape[0], HSI.shape[1], NC))\n",
    "    elif method == 'KPCA': ## Kernel PCA\n",
    "        kpca = KernelPCA(kernel = \"rbf\", n_components = NC, gamma = None, \n",
    "                         fit_inverse_transform = True, random_state = 2019, \n",
    "                         n_jobs=1)\n",
    "        kpca.fit(RHSI)\n",
    "        RHSI = kpca.transform(RHSI)\n",
    "        RHSI = np.reshape(RHSI, (HSI.shape[0], HSI.shape[1], NC))\n",
    "    elif method == 'SPCA': ## Sparse PCA\n",
    "        sparsepca = SparsePCA(n_components = NC, alpha=0.0001, random_state=2019, n_jobs=-1)\n",
    "        sparsepca.fit(RHSI)\n",
    "        RHSI = sparsepca.transform(RHSI)\n",
    "        RHSI = np.reshape(RHSI, (HSI.shape[0], HSI.shape[1], NC))\n",
    "    elif method == 'SVD': ## Singular Value Decomposition\n",
    "        SVD_ = TruncatedSVD(n_components = NC,algorithm = 'randomized', \n",
    "                            random_state = 2019, n_iter=5)\n",
    "        SVD_.fit(RHSI)\n",
    "        RHSI = SVD_.transform(RHSI)\n",
    "        RHSI = np.reshape(RHSI, (HSI.shape[0], HSI.shape[1], NC))\n",
    "    return RHSI"
   ]
  },
  {
   "cell_type": "markdown",
   "metadata": {
    "id": "KuRYUX5vfkWJ"
   },
   "source": [
    "# **Label Smoothing**"
   ]
  },
  {
   "cell_type": "code",
   "execution_count": 6,
   "metadata": {
    "id": "YW7OHQa1Rvys"
   },
   "outputs": [],
   "source": [
    "## Label Smoothing\n",
    "def Smoothing(y_true, y_pred):\n",
    "    return tf.keras.losses.binary_crossentropy(y_true, y_pred, label_smoothing=0.1)\n",
    "\n",
    "def label_smoothing(y, smooth_factor):\n",
    "    assert len(y.shape) == 2\n",
    "    if 0 <= smooth_factor <= 1:\n",
    "        y *= 1 - smooth_factor\n",
    "        y += smooth_factor / y.shape[1]\n",
    "    else:\n",
    "        raise Exception(\n",
    "            'Invalid label smoothing factor: ' + str(smooth_factor))\n",
    "    return y"
   ]
  },
  {
   "cell_type": "markdown",
   "metadata": {
    "id": "x5zBb2tJfqZd"
   },
   "source": [
    "# **Train Test Split**"
   ]
  },
  {
   "cell_type": "code",
   "execution_count": 7,
   "metadata": {
    "id": "md2FPLE1F3pA"
   },
   "outputs": [],
   "source": [
    "## Train/Test Split\n",
    "def TrTeSplit(HSI, GT, testRatio, randomState=345):\n",
    "    Tr, Te, TrC, TeC = train_test_split(HSI, GT, test_size = testRatio, \n",
    "                                        random_state = randomState,\n",
    "                                        stratify = GT)\n",
    "    return Tr, Te, TrC, TeC"
   ]
  },
  {
   "cell_type": "markdown",
   "metadata": {
    "id": "ejeepAakfsc6"
   },
   "source": [
    "# **Patches and Padding**"
   ]
  },
  {
   "cell_type": "code",
   "execution_count": 8,
   "metadata": {
    "id": "CmLBk7cJD40S"
   },
   "outputs": [],
   "source": [
    "## 3-D HSI slices\n",
    "def ImageCubes(HSI, GT, WS = 5, removeZeroLabels = True):\n",
    "    margin = int((WS - 1) / 2)\n",
    "    zeroPaddedX = ZeroPad(HSI, margin = margin)\n",
    "    ## split patches\n",
    "    patchesData = np.zeros((HSI.shape[0] * HSI.shape[1], WS, WS, HSI.shape[2]))\n",
    "    patchesLabels = np.zeros((HSI.shape[0] * HSI.shape[1]))\n",
    "    patchIndex = 0\n",
    "    for r in range(margin, zeroPaddedX.shape[0] - margin):\n",
    "        for c in range(margin, zeroPaddedX.shape[1] - margin):\n",
    "            patch = zeroPaddedX[r - margin:r + margin + 1, c - margin:c + margin + 1]   \n",
    "            patchesData[patchIndex, :, :, :] = patch\n",
    "            patchesLabels[patchIndex] = GT[r-margin, c-margin]\n",
    "            patchIndex = patchIndex + 1\n",
    "    if removeZeroLabels:\n",
    "        patchesData = patchesData[patchesLabels>0,:,:,:]\n",
    "        patchesLabels = patchesLabels[patchesLabels>0]\n",
    "        patchesLabels -= 1\n",
    "    return patchesData, patchesLabels\n",
    "    \n",
    "## Padding around HSI\n",
    "def ZeroPad(HSI, margin = 2):\n",
    "    NHSI = np.zeros((HSI.shape[0] + 2 * margin, HSI.shape[1] + 2* margin, HSI.shape[2]))\n",
    "    x_offset = margin\n",
    "    y_offset = margin\n",
    "    NHSI[x_offset:HSI.shape[0] + x_offset, y_offset:HSI.shape[1] + y_offset, :] = HSI\n",
    "    return NHSI\n",
    "\n",
    "## Compute the Patch to Prepare for Ground Truths\n",
    "def Patch(HSI,height_index,width_index):\n",
    "    height_slice = slice(height_index, height_index+PATCH_SIZE)\n",
    "    width_slice = slice(width_index, width_index+PATCH_SIZE)\n",
    "    patch = HSI[height_slice, width_slice, :]\n",
    "    return patch"
   ]
  },
  {
   "cell_type": "markdown",
   "metadata": {
    "id": "3SUqxKSAg-eY"
   },
   "source": [
    "# **Computing Accuracy**"
   ]
  },
  {
   "cell_type": "code",
   "execution_count": 9,
   "metadata": {
    "id": "c073lR_nEBF7"
   },
   "outputs": [],
   "source": [
    "## Classification Reports\n",
    "def ClassificationReports(TeC, Te_Pred):\n",
    "    Te_Pred = np.argmax(Te_Pred, axis=1)\n",
    "    target_names = [\"blood\",\n",
    "                    \"ketchup\",\n",
    "                    \"artificial blood\",\n",
    "                    \"poster paint\",\n",
    "                    \"tomato concentrate\",\n",
    "                    \"acrylic paint\"]\n",
    "    classification = classification_report(np.argmax(TeC, axis=1), Te_Pred, target_names = target_names)\n",
    "    oa = accuracy_score(np.argmax(TeC, axis=1), Te_Pred)\n",
    "    confusion = confusion_matrix(np.argmax(TeC, axis=1), Te_Pred)\n",
    "    list_diag = np.diag(confusion)\n",
    "    list_raw_sum = np.sum(confusion, axis=1)\n",
    "    each_acc = np.nan_to_num(truediv(list_diag, list_raw_sum))\n",
    "    aa = np.mean(each_acc)\n",
    "    kappa = cohen_kappa_score(np.argmax(TeC, axis=1), Te_Pred)\n",
    "    return classification, confusion, oa*100, each_acc*100, aa*100, kappa*100, target_names\n",
    "\n",
    "## Writing Results in CSV files\n",
    "def CSVResults(file_name, classification, confusion, Tr_Time, Te_Time, DL_Time, kappa, oa, aa, each_acc):\n",
    "    classification = str(classification)\n",
    "    confusion = str(confusion)\n",
    "    with open(file_name, 'w') as CSV_file:\n",
    "        CSV_file.write('{} Tr_Time'.format(Tr_Time))\n",
    "        CSV_file.write('\\n')\n",
    "        CSV_file.write('{} Te_Time'.format(Te_Time))\n",
    "        CSV_file.write('\\n')\n",
    "        CSV_file.write('{} DL_Time'.format(DL_Time))\n",
    "        CSV_file.write('\\n')\n",
    "        CSV_file.write('{} Kappa accuracy (%)'.format(kappa))\n",
    "        CSV_file.write('\\n')\n",
    "        CSV_file.write('{} Overall accuracy (%)'.format(oa))\n",
    "        CSV_file.write('\\n')\n",
    "        CSV_file.write('{} Average accuracy (%)'.format(aa))\n",
    "        CSV_file.write('\\n')\n",
    "        CSV_file.write('{}'.format(classification))\n",
    "        CSV_file.write('\\n')\n",
    "        CSV_file.write('{}'.format(each_acc))\n",
    "        CSV_file.write('\\n')\n",
    "        CSV_file.write('{}'.format(confusion))\n",
    "    return CSV_file\n",
    "\n",
    "## Plot and Save Confusion Matrix\n",
    "def Conf_Mat(Te_Pred, TeC, target_names):\n",
    "    plt.rcParams.update({'font.size': 12})\n",
    "    Te_Pred = np.argmax(Te_Pred, axis=1)\n",
    "    confusion = confusion_matrix(np.argmax(TeC, axis=1), Te_Pred, labels=np.unique(np.argmax(TeC, axis=1)))\n",
    "    cm_sum = np.sum(confusion, axis=1, keepdims=True)\n",
    "    cm_perc = confusion / cm_sum.astype(float) * 100\n",
    "    annot = np.empty_like(confusion).astype(str)\n",
    "    nrows, ncols = confusion.shape\n",
    "    for l in range(nrows):\n",
    "        for m in range(ncols):\n",
    "            c = confusion[l, m]\n",
    "            p = cm_perc[l, m]\n",
    "            if l == m:\n",
    "                s = cm_sum[l]\n",
    "                annot[l, m] = '%.1f%%\\n%d/%d' % (p, c, s)\n",
    "            elif c == 0:\n",
    "                annot[l, m] = ''\n",
    "            else:\n",
    "                annot[l, m] = '%.1f%%\\n%d' % (p, c)\n",
    "    cm = pd.DataFrame(confusion, index=np.unique(target_names), columns=np.unique(target_names))\n",
    "    return cm, annot\n",
    "\n",
    "## Plot Ground Truths \n",
    "def GT_Plot(RDHSI, GT, model, WS):\n",
    "    height, width = np.shape(GT)\n",
    "    RDHSI = ZeroPad(RDHSI, WS//2) ## Zero Padding\n",
    "    ## Calculate the predicted Ground Truths\n",
    "    outputs = np.zeros((height, width))\n",
    "    for AA in range(height):\n",
    "        for BB in range(width):\n",
    "            \n",
    "            target = int(GT[AA,BB])\n",
    "            if target == 0:\n",
    "                continue\n",
    "            else :\n",
    "                image_patch = Patch(RDHSI,AA,BB)\n",
    "                X_test_image = image_patch.reshape(1,image_patch.shape[0], \n",
    "                                                 image_patch.shape[1],\n",
    "                                                 image_patch.shape[2], \n",
    "                                                 1).astype('float32')\n",
    "                prediction = (model.predict(X_test_image))\n",
    "                prediction = np.argmax(prediction, axis=1)\n",
    "                outputs[AA][BB] = prediction+1\n",
    "    return outputs "
   ]
  },
  {
   "cell_type": "markdown",
   "metadata": {
    "id": "g0xXnFtIhRco"
   },
   "source": [
    "# **CNN Model**"
   ]
  },
  {
   "cell_type": "code",
   "execution_count": 10,
   "metadata": {},
   "outputs": [],
   "source": [
    "import swish_package\n",
    "from swish_package import swish\n",
    "from keras.utils.generic_utils import get_custom_objects\n",
    "from keras.layers import Activation\n",
    "get_custom_objects().update({'swish': Activation(swish)})\n",
    "\n",
    "\n",
    "def My_model(WS,k):\n",
    "    input_layer = Input((WS, WS, k, 1))\n",
    "    conv_layer1 = Conv3D(filters=8, kernel_size=(3, 3, 7), activation='swish')(input_layer)\n",
    "    conv_layer2 = Conv3D(filters=16, kernel_size=(3, 3, 5), activation='relu')(conv_layer1)\n",
    "    conv2d_shape = conv_layer2.shape\n",
    "    conv_layer2 = Reshape((conv2d_shape[1], conv2d_shape[2], conv2d_shape[3]*conv2d_shape[4]))(conv_layer2)\n",
    "    flatten_layer = Flatten()(conv_layer2)\n",
    "    dense_layer1 = Dense(units=256, activation = 'relu')(flatten_layer)\n",
    "    dense_layer1 = Dropout(0.4)(dense_layer1)\n",
    "    output_layer = Dense(units = 7, activation = 'softmax')(dense_layer1)\n",
    "    model = Model(inputs = input_layer, outputs = output_layer)\n",
    "    return model"
   ]
  },
  {
   "cell_type": "raw",
   "metadata": {
    "id": "06VXkBOTSI16"
   },
   "source": [
    "## Hybrid Model\n",
    "def My_model(WS,k):\n",
    "    input_layer = Input((WS, WS, k, 1))\n",
    "    conv_layer1 = Conv3D(filters=8, kernel_size=(3, 3, 7), activation='relu')(input_layer)\n",
    "    conv_layer2 = Conv3D(filters=16, kernel_size=(3, 3, 5), activation='relu')(conv_layer1)\n",
    "    conv_layer3 = Conv3D(filters=32, kernel_size=(3, 3, 3), activation='relu')(conv_layer2)\n",
    "    ##conv_layer4 = Conv3D(filters=64, kernel_size=(3, 3, 1), activation='relu')(conv_layer3)\n",
    "    ## Conv3D with kernel_size=(3, 3, 1) can be used as well instead to reshape and Con2D.\n",
    "    conv3d_shape = conv_layer3.shape\n",
    "    conv_layer3 = Reshape((conv3d_shape[1], conv3d_shape[2], conv3d_shape[3]*conv3d_shape[4]))(conv_layer3)\n",
    "    conv_layer4 = Conv2D(filters=64, kernel_size=(3,3), activation='relu')(conv_layer3)\n",
    "    # conv3d_shape = conv_layer4.shape\n",
    "    # conv_layer5 = Reshape((conv3d_shape[1], conv3d_shape[2], conv3d_shape[3]*conv3d_shape[4]))(conv_layer4)\n",
    "    # conv_layer6 = Conv2D(filters=128, kernel_size=(3,3), activation='relu')(conv_layer5)\n",
    "    flatten_layer = Flatten()(conv_layer4)\n",
    "    dense_layer1 = Dense(units=256, activation = 'relu')(flatten_layer)\n",
    "    dense_layer1 = Dropout(0.4)(dense_layer1)\n",
    "    dense_layer2 = Dense(units = 128, activation = 'relu')(dense_layer1)\n",
    "    dense_layer2 = Dropout(0.4)(dense_layer2)\n",
    "    output_layer = Dense(units = 7, activation = 'softmax')(dense_layer2)\n",
    "    model = Model(inputs = input_layer, outputs = output_layer)\n",
    "    return model"
   ]
  },
  {
   "cell_type": "markdown",
   "metadata": {
    "id": "ryS1-QhdhVFT"
   },
   "source": [
    "# **Global Parameters**"
   ]
  },
  {
   "cell_type": "code",
   "execution_count": 11,
   "metadata": {
    "id": "pnXXoPPeFCLd"
   },
   "outputs": [],
   "source": [
    "## Global Parameters\n",
    "HSID = \"E_1\"    ## 'A_1.hdr', 'B_1.hdr', 'C_1.hdr', 'D_1.hdr', 'E_1.hdr', 'E_7.hdr', \n",
    "                ## 'E_21.hdr', 'F_1.hdr.hdr', 'F_1a.hdr', 'F_1s.hdr', 'F_2.hdr', \n",
    "                ## 'F_2k.hdr', 'F_7.hdr', 'F_21.hdr'\n",
    "DLM = \"iPCA\"     ## \"PCA\", \"iPCA\", \"SPCA\", \"KPCA\", \"SVD\"\n",
    "WS = 9      ## 9, 11, 13, 15, 17, 19, 21, 23, 25\n",
    "PATCH_SIZE = WS\n",
    "TeRatio = 0.50\n",
    "VeRatio = 0.50\n",
    "k = 15       ## 15, 17, 19, 21, 23, 25, 27, 30 -- k be the number of Bands to be selected in the following.\n",
    "adam = Adam(lr = 0.01, decay = 1e-06)\n",
    "epochs = 10\n",
    "batch_size = 32"
   ]
  },
  {
   "cell_type": "code",
   "execution_count": 12,
   "metadata": {
    "scrolled": true
   },
   "outputs": [
    {
     "name": "stdout",
     "output_type": "stream",
     "text": [
      "A_1 is Successfully Found\n",
      "B_1 is Successfully Found\n",
      "C_1 is Successfully Found\n",
      "D_1 is Successfully Found\n",
      "E_1 is Successfully Found\n",
      "E_7 is Successfully Found\n",
      "E_21 is Successfully Found\n",
      "F_1 is Successfully Found\n",
      "F_1a is Successfully Found\n",
      "F_1s is Successfully Found\n",
      "F_2 is Successfully Found\n",
      "F_2k is Successfully Found\n",
      "F_7 is Successfully Found\n",
      "F_21 is Successfully Found\n"
     ]
    }
   ],
   "source": [
    "HSI, GT, Num_Classes = LoadHSIData(HSID)"
   ]
  },
  {
   "cell_type": "code",
   "execution_count": 13,
   "metadata": {},
   "outputs": [
    {
     "data": {
      "text/plain": [
       "(519, 696, 113)"
      ]
     },
     "execution_count": 13,
     "metadata": {},
     "output_type": "execute_result"
    }
   ],
   "source": [
    "HSI.shape"
   ]
  },
  {
   "cell_type": "markdown",
   "metadata": {
    "id": "F6toxcYvhu3D"
   },
   "source": [
    "# **Main Function**"
   ]
  },
  {
   "cell_type": "code",
   "execution_count": 14,
   "metadata": {
    "colab": {
     "base_uri": "https://localhost:8080/"
    },
    "id": "lFtNuQeChrtN",
    "outputId": "edfd4ef6-185a-4e25-eb90-548a4969d6d7"
   },
   "outputs": [
    {
     "name": "stdout",
     "output_type": "stream",
     "text": [
      "A_1 is Successfully Found\n",
      "B_1 is Successfully Found\n",
      "C_1 is Successfully Found\n",
      "D_1 is Successfully Found\n",
      "E_1 is Successfully Found\n",
      "E_7 is Successfully Found\n",
      "E_21 is Successfully Found\n",
      "F_1 is Successfully Found\n",
      "F_1a is Successfully Found\n",
      "F_1s is Successfully Found\n",
      "F_2 is Successfully Found\n",
      "F_2k is Successfully Found\n",
      "F_7 is Successfully Found\n",
      "F_21 is Successfully Found\n"
     ]
    }
   ],
   "source": [
    "HSI, GT, Num_Classes = LoadHSIData(HSID)\n",
    "## Reduce the Dimensionality\n",
    "start = time.time()\n",
    "RDHSI = DLMethod(DLM, HSI, NC = k)\n",
    "end = time.time()\n",
    "DL_Time = end - start\n",
    "## Create Image Cubes for Model Building\n",
    "CRDHSI, CGT = ImageCubes(RDHSI, GT, WS = WS)\n",
    "## Split Train and Test sets (for 2D and 3D Models)\n",
    "Tr, Te, TrC, TeC = TrTeSplit(CRDHSI, CGT, TeRatio)\n",
    "## Split Train and Validation (for 2D and 3D Models)\n",
    "Tr, Va, TrC, VaC = TrTeSplit(Tr, TrC, VeRatio)\n",
    "## Reshape Train, Validation, and Test sets\n",
    "Tr = Tr.reshape(-1, WS, WS, k, 1)\n",
    "TrC = np_utils.to_categorical(TrC)\n",
    "TrC1 = label_smoothing(TrC, .1)\n",
    "Va = Va.reshape(-1, WS, WS, k, 1)\n",
    "VaC = np_utils.to_categorical(VaC)\n",
    "VaC1 = label_smoothing(VaC, .1)\n",
    "Te = Te.reshape(-1, WS, WS, k, 1)\n",
    "TeC = np_utils.to_categorical(TeC)\n",
    "TeC1 = label_smoothing(TeC, .1)"
   ]
  },
  {
   "cell_type": "markdown",
   "metadata": {
    "id": "1tUYYWg0hyBA"
   },
   "source": [
    "# **Model without Smoothing**"
   ]
  },
  {
   "cell_type": "code",
   "execution_count": 15,
   "metadata": {
    "colab": {
     "base_uri": "https://localhost:8080/",
     "height": 1000
    },
    "id": "JUeH4ZKCh0YY",
    "outputId": "ee2d31ec-4db8-4808-af43-afdb5be38d69"
   },
   "outputs": [
    {
     "name": "stdout",
     "output_type": "stream",
     "text": [
      "Model: \"model\"\n",
      "_________________________________________________________________\n",
      " Layer (type)                Output Shape              Param #   \n",
      "=================================================================\n",
      " input_1 (InputLayer)        [(None, 9, 9, 15, 1)]     0         \n",
      "                                                                 \n",
      " conv3d (Conv3D)             (None, 7, 7, 9, 8)        512       \n",
      "                                                                 \n",
      " conv3d_1 (Conv3D)           (None, 5, 5, 5, 16)       5776      \n",
      "                                                                 \n",
      " reshape (Reshape)           (None, 5, 5, 80)          0         \n",
      "                                                                 \n",
      " flatten (Flatten)           (None, 2000)              0         \n",
      "                                                                 \n",
      " dense (Dense)               (None, 256)               512256    \n",
      "                                                                 \n",
      " dropout (Dropout)           (None, 256)               0         \n",
      "                                                                 \n",
      " dense_1 (Dense)             (None, 7)                 1799      \n",
      "                                                                 \n",
      "=================================================================\n",
      "Total params: 520,343\n",
      "Trainable params: 520,343\n",
      "Non-trainable params: 0\n",
      "_________________________________________________________________\n",
      "Epoch 1/10\n",
      "265/265 [==============================] - 3s 4ms/step - loss: 0.7639 - accuracy: 0.8926 - val_loss: 0.6652 - val_accuracy: 0.9231\n",
      "Epoch 2/10\n",
      "265/265 [==============================] - 1s 4ms/step - loss: 0.6672 - accuracy: 0.9436 - val_loss: 0.6469 - val_accuracy: 0.9566\n",
      "Epoch 3/10\n",
      "265/265 [==============================] - 1s 4ms/step - loss: 0.6874 - accuracy: 0.9365 - val_loss: 0.6075 - val_accuracy: 0.9537\n",
      "Epoch 4/10\n",
      "265/265 [==============================] - 1s 4ms/step - loss: 0.6470 - accuracy: 0.9498 - val_loss: 0.5368 - val_accuracy: 0.9794\n",
      "Epoch 5/10\n",
      "265/265 [==============================] - 1s 4ms/step - loss: 0.6322 - accuracy: 0.9563 - val_loss: 0.6018 - val_accuracy: 0.9621\n",
      "Epoch 6/10\n",
      "265/265 [==============================] - 1s 4ms/step - loss: 0.6114 - accuracy: 0.9647 - val_loss: 0.6163 - val_accuracy: 0.9428\n",
      "Epoch 7/10\n",
      "265/265 [==============================] - 1s 4ms/step - loss: 0.6320 - accuracy: 0.9585 - val_loss: 0.6271 - val_accuracy: 0.9602\n",
      "Epoch 8/10\n",
      "265/265 [==============================] - 1s 4ms/step - loss: 0.6568 - accuracy: 0.9490 - val_loss: 0.5626 - val_accuracy: 0.9731\n",
      "Epoch 9/10\n",
      "265/265 [==============================] - 1s 4ms/step - loss: 0.6275 - accuracy: 0.9572 - val_loss: 0.5736 - val_accuracy: 0.9667\n",
      "Epoch 10/10\n",
      "265/265 [==============================] - 1s 4ms/step - loss: 0.6262 - accuracy: 0.9575 - val_loss: 0.5207 - val_accuracy: 0.9870\n",
      "                    precision    recall  f1-score   support\n",
      "\n",
      "             blood       0.99      0.99      0.99      1482\n",
      "           ketchup       1.00      0.99      0.99      2922\n",
      "  artificial blood       0.96      0.97      0.97      3208\n",
      "      poster paint       1.00      1.00      1.00      3312\n",
      "tomato concentrate       0.97      0.95      0.96      1967\n",
      "     acrylic paint       0.99      1.00      0.99      4011\n",
      "\n",
      "          accuracy                           0.99     16902\n",
      "         macro avg       0.99      0.98      0.98     16902\n",
      "      weighted avg       0.99      0.99      0.99     16902\n",
      "\n"
     ]
    },
    {
     "data": {
      "image/png": "[encoded data removed]",
      "text/plain": [
       "<Figure size 1000x1000 with 1 Axes>"
      ]
     },
     "metadata": {},
     "output_type": "display_data"
    }
   ],
   "source": [
    "model = My_model(WS, k)\n",
    "model.summary()\n",
    "## Save Model Structure \n",
    "#file_name = str(HSID)+str(WS)+str(DLM)+str(k)+\"_Hybrid_Without_Smoothing.png\"\n",
    "#plot_model(model, to_file = file_name, show_shapes=True, show_layer_names=True, dpi=500)\n",
    "#files.download(file_name)\n",
    "## Fit Model without Smoothing\n",
    "model.compile(loss = 'categorical_crossentropy', optimizer = adam, metrics = ['accuracy'])\n",
    "## Fit the Model\n",
    "start = time.time()\n",
    "history1 = model.fit(x = Tr, y = TrC, batch_size = batch_size, epochs = epochs, validation_data = (Va, VaC))\n",
    "end = time.time()\n",
    "Tr_Time = end - start\n",
    "## Prediction Model\n",
    "start = time.time()\n",
    "Te_Pred = model.predict(Te)\n",
    "end = time.time()\n",
    "Te_Time = end - start\n",
    "## Prediction and Computing the Accuacy\n",
    "classification,confusion,oa,each_acc,aa,kappa,target_names = ClassificationReports(TeC,Te_Pred)\n",
    "print(classification)\n",
    "## Writing Results in CSV File\n",
    "file_name = str(HSID)+str(WS)+str(DLM)+str(k)+\"_Classification_Report_Without_Smoothing.csv\"\n",
    "CSV_file = CSVResults(file_name, classification, confusion, Tr_Time, Te_Time, DL_Time, kappa, oa, aa, each_acc)\n",
    "# files.download(file_name)\n",
    "## Predicted Ground Truths\n",
    "outputs = GT_Plot(RDHSI, GT, model, WS)\n",
    "file_name = str(HSID)+str(WS)+str(DLM)+str(k)+\"_Ground_Truths__Without_Smoothing.png\"\n",
    "plt.figure(figsize=(10, 10))\n",
    "plt.imshow(outputs, cmap='nipy_spectral')\n",
    "# plt.colorbar()\n",
    "plt.axis('off')\n",
    "plt.savefig(file_name, dpi=500)\n",
    "# files.download(file_name)"
   ]
  },
  {
   "cell_type": "markdown",
   "metadata": {
    "id": "UAS5fNLph4Fu"
   },
   "source": [
    "# **Model with Smoothing**"
   ]
  },
  {
   "cell_type": "code",
   "execution_count": 16,
   "metadata": {
    "colab": {
     "base_uri": "https://localhost:8080/",
     "height": 1000
    },
    "id": "g11QjPoWh6VE",
    "outputId": "b42fcf63-545b-45c5-9d3d-81d45fcf9bd5"
   },
   "outputs": [
    {
     "name": "stdout",
     "output_type": "stream",
     "text": [
      "Epoch 1/10\n",
      "265/265 [==============================] - 2s 5ms/step - loss: 0.3076 - accuracy: 0.9686 - val_loss: 0.2685 - val_accuracy: 0.9928\n",
      "Epoch 2/10\n",
      "265/265 [==============================] - 1s 4ms/step - loss: 0.2808 - accuracy: 0.9895 - val_loss: 0.2654 - val_accuracy: 0.9950\n",
      "Epoch 3/10\n",
      "265/265 [==============================] - 1s 4ms/step - loss: 0.2765 - accuracy: 0.9924 - val_loss: 0.2638 - val_accuracy: 0.9946\n",
      "Epoch 4/10\n",
      "265/265 [==============================] - 1s 4ms/step - loss: 0.2738 - accuracy: 0.9931 - val_loss: 0.2632 - val_accuracy: 0.9979\n",
      "Epoch 5/10\n",
      "265/265 [==============================] - 1s 4ms/step - loss: 0.2722 - accuracy: 0.9941 - val_loss: 0.2641 - val_accuracy: 0.9953\n",
      "Epoch 6/10\n",
      "265/265 [==============================] - 1s 4ms/step - loss: 0.2706 - accuracy: 0.9960 - val_loss: 0.2614 - val_accuracy: 0.9961\n",
      "Epoch 7/10\n",
      "265/265 [==============================] - 1s 4ms/step - loss: 0.2704 - accuracy: 0.9946 - val_loss: 0.2640 - val_accuracy: 0.9935\n",
      "Epoch 8/10\n",
      "265/265 [==============================] - 1s 5ms/step - loss: 0.2697 - accuracy: 0.9957 - val_loss: 0.2623 - val_accuracy: 0.9950\n",
      "Epoch 9/10\n",
      "265/265 [==============================] - 1s 4ms/step - loss: 0.2693 - accuracy: 0.9953 - val_loss: 0.2615 - val_accuracy: 0.9979\n",
      "Epoch 10/10\n",
      "265/265 [==============================] - 1s 4ms/step - loss: 0.2691 - accuracy: 0.9942 - val_loss: 0.2610 - val_accuracy: 0.9975\n",
      "                    precision    recall  f1-score   support\n",
      "\n",
      "             blood       1.00      0.99      1.00      1482\n",
      "           ketchup       1.00      1.00      1.00      2922\n",
      "  artificial blood       0.99      1.00      0.99      3208\n",
      "      poster paint       1.00      1.00      1.00      3312\n",
      "tomato concentrate       1.00      0.99      1.00      1967\n",
      "     acrylic paint       1.00      1.00      1.00      4011\n",
      "\n",
      "          accuracy                           1.00     16902\n",
      "         macro avg       1.00      1.00      1.00     16902\n",
      "      weighted avg       1.00      1.00      1.00     16902\n",
      "\n"
     ]
    },
    {
     "data": {
      "image/png": "[encoded data removed]",
      "text/plain": [
       "<Figure size 1000x1000 with 1 Axes>"
      ]
     },
     "metadata": {},
     "output_type": "display_data"
    }
   ],
   "source": [
    "#model = My_model(WS, k)\n",
    "model.compile(loss = Smoothing, optimizer = adam, metrics = ['accuracy'])\n",
    "## Fit the Model\n",
    "start = time.time()\n",
    "history2 = model.fit(x = Tr, y = TrC1, batch_size = batch_size, epochs = epochs, validation_data = (Va, VaC1))\n",
    "end = time.time()\n",
    "Tr_Time = end - start\n",
    "## Prediction Model\n",
    "start = time.time()\n",
    "Te_Pred = model.predict(Te)\n",
    "end = time.time()\n",
    "Te_Time = end - start\n",
    "## Prediction and Computing the Accuacy\n",
    "classification,confusion,oa,each_acc,aa,kappa,target_names = ClassificationReports(TeC1,Te_Pred)\n",
    "print(classification)\n",
    "## Writing Results in CSV File\n",
    "file_name = str(HSID)+str(WS)+str(DLM)+str(k)+\"_Classification_Report_With_Smoothing.csv\"\n",
    "CSV_file = CSVResults(file_name, classification, confusion, Tr_Time, Te_Time, DL_Time, kappa, oa, aa, each_acc)\n",
    "# files.download(file_name)\n",
    "## Predicted Ground Truths\n",
    "outputs = GT_Plot(RDHSI, GT, model, WS)\n",
    "file_name = str(HSID)+str(WS)+str(DLM)+str(k)+\"_Ground_Truths__With_Smoothing.png\"\n",
    "plt.figure(figsize=(10, 10))\n",
    "plt.imshow(outputs, cmap='nipy_spectral')\n",
    "# plt.colorbar()\n",
    "plt.axis('off')\n",
    "plt.savefig(file_name, dpi=500)\n",
    "# files.download(file_name)"
   ]
  },
  {
   "cell_type": "markdown",
   "metadata": {
    "id": "IF7p6hKsh9M0"
   },
   "source": [
    "# **3D CNN** for Comparison"
   ]
  },
  {
   "cell_type": "code",
   "execution_count": 17,
   "metadata": {
    "colab": {
     "base_uri": "https://localhost:8080/",
     "height": 1000
    },
    "id": "4QvuNu-eh-VB",
    "outputId": "d845e06b-55af-4859-9694-a8a5d2768921"
   },
   "outputs": [
    {
     "name": "stdout",
     "output_type": "stream",
     "text": [
      "Model: \"model_1\"\n",
      "_________________________________________________________________\n",
      " Layer (type)                Output Shape              Param #   \n",
      "=================================================================\n",
      " input_2 (InputLayer)        [(None, 9, 9, 15, 1)]     0         \n",
      "                                                                 \n",
      " conv3d_2 (Conv3D)           (None, 7, 7, 9, 8)        512       \n",
      "                                                                 \n",
      " conv3d_3 (Conv3D)           (None, 5, 5, 5, 16)       5776      \n",
      "                                                                 \n",
      " conv3d_4 (Conv3D)           (None, 3, 3, 3, 32)       13856     \n",
      "                                                                 \n",
      " conv3d_5 (Conv3D)           (None, 1, 1, 1, 64)       55360     \n",
      "                                                                 \n",
      " flatten_1 (Flatten)         (None, 64)                0         \n",
      "                                                                 \n",
      " dense_2 (Dense)             (None, 256)               16640     \n",
      "                                                                 \n",
      " dropout_1 (Dropout)         (None, 256)               0         \n",
      "                                                                 \n",
      " dense_3 (Dense)             (None, 128)               32896     \n",
      "                                                                 \n",
      " dropout_2 (Dropout)         (None, 128)               0         \n",
      "                                                                 \n",
      " dense_4 (Dense)             (None, 7)                 903       \n",
      "                                                                 \n",
      "=================================================================\n",
      "Total params: 125,943\n",
      "Trainable params: 125,943\n",
      "Non-trainable params: 0\n",
      "_________________________________________________________________\n",
      "Epoch 1/10\n",
      "265/265 [==============================] - 2s 5ms/step - loss: 1.9050 - accuracy: 0.2299 - val_loss: 1.8031 - val_accuracy: 0.2373\n",
      "Epoch 2/10\n",
      "265/265 [==============================] - 1s 5ms/step - loss: 1.8033 - accuracy: 0.2373 - val_loss: 1.8036 - val_accuracy: 0.2373\n",
      "Epoch 3/10\n",
      "265/265 [==============================] - 1s 5ms/step - loss: 1.8028 - accuracy: 0.2373 - val_loss: 1.8027 - val_accuracy: 0.2373\n",
      "Epoch 4/10\n",
      "265/265 [==============================] - 1s 5ms/step - loss: 1.8025 - accuracy: 0.2373 - val_loss: 1.8035 - val_accuracy: 0.2373\n",
      "Epoch 5/10\n",
      "265/265 [==============================] - 1s 5ms/step - loss: 1.8029 - accuracy: 0.2373 - val_loss: 1.8031 - val_accuracy: 0.2373\n",
      "Epoch 6/10\n",
      "265/265 [==============================] - 1s 5ms/step - loss: 1.8030 - accuracy: 0.2373 - val_loss: 1.8023 - val_accuracy: 0.2373\n",
      "Epoch 7/10\n",
      "265/265 [==============================] - 1s 5ms/step - loss: 1.8028 - accuracy: 0.2373 - val_loss: 1.8025 - val_accuracy: 0.2373\n",
      "Epoch 8/10\n",
      "265/265 [==============================] - 1s 5ms/step - loss: 1.8027 - accuracy: 0.2373 - val_loss: 1.8020 - val_accuracy: 0.2373\n",
      "Epoch 9/10\n",
      "265/265 [==============================] - 1s 5ms/step - loss: 1.8028 - accuracy: 0.2373 - val_loss: 1.8019 - val_accuracy: 0.2373\n",
      "Epoch 10/10\n",
      "265/265 [==============================] - 1s 5ms/step - loss: 1.8027 - accuracy: 0.2373 - val_loss: 1.8017 - val_accuracy: 0.2373\n",
      "                    precision    recall  f1-score   support\n",
      "\n",
      "             blood       0.00      0.00      0.00      1482\n",
      "           ketchup       0.00      0.00      0.00      2922\n",
      "  artificial blood       0.00      0.00      0.00      3208\n",
      "      poster paint       0.00      0.00      0.00      3312\n",
      "tomato concentrate       0.00      0.00      0.00      1967\n",
      "     acrylic paint       0.24      1.00      0.38      4011\n",
      "\n",
      "          accuracy                           0.24     16902\n",
      "         macro avg       0.04      0.17      0.06     16902\n",
      "      weighted avg       0.06      0.24      0.09     16902\n",
      "\n"
     ]
    },
    {
     "ename": "NameError",
     "evalue": "name 'files' is not defined",
     "output_type": "error",
     "traceback": [
      "\u001b[1;31m---------------------------------------------------------------------------\u001b[0m",
      "\u001b[1;31mNameError\u001b[0m                                 Traceback (most recent call last)",
      "\u001b[1;32m~\\AppData\\Local\\Temp\\ipykernel_6152\\139738535.py\u001b[0m in \u001b[0;36m<module>\u001b[1;34m\u001b[0m\n\u001b[0;32m     31\u001b[0m \u001b[0mfile_name\u001b[0m \u001b[1;33m=\u001b[0m \u001b[0mstr\u001b[0m\u001b[1;33m(\u001b[0m\u001b[0mHSID\u001b[0m\u001b[1;33m)\u001b[0m\u001b[1;33m+\u001b[0m\u001b[0mstr\u001b[0m\u001b[1;33m(\u001b[0m\u001b[0mWS\u001b[0m\u001b[1;33m)\u001b[0m\u001b[1;33m+\u001b[0m\u001b[0mstr\u001b[0m\u001b[1;33m(\u001b[0m\u001b[0mDLM\u001b[0m\u001b[1;33m)\u001b[0m\u001b[1;33m+\u001b[0m\u001b[0mstr\u001b[0m\u001b[1;33m(\u001b[0m\u001b[0mk\u001b[0m\u001b[1;33m)\u001b[0m\u001b[1;33m+\u001b[0m\u001b[1;34m\"_classification_report_3D.csv\"\u001b[0m\u001b[1;33m\u001b[0m\u001b[1;33m\u001b[0m\u001b[0m\n\u001b[0;32m     32\u001b[0m \u001b[0mCSV_file\u001b[0m \u001b[1;33m=\u001b[0m \u001b[0mCSVResults\u001b[0m\u001b[1;33m(\u001b[0m\u001b[0mfile_name\u001b[0m\u001b[1;33m,\u001b[0m \u001b[0mclassification\u001b[0m\u001b[1;33m,\u001b[0m \u001b[0mconfusion\u001b[0m\u001b[1;33m,\u001b[0m \u001b[0mTr_Time\u001b[0m\u001b[1;33m,\u001b[0m \u001b[0mTe_Time\u001b[0m\u001b[1;33m,\u001b[0m \u001b[0mDL_Time\u001b[0m\u001b[1;33m,\u001b[0m \u001b[0mkappa\u001b[0m\u001b[1;33m,\u001b[0m \u001b[0moa\u001b[0m\u001b[1;33m,\u001b[0m \u001b[0maa\u001b[0m\u001b[1;33m,\u001b[0m \u001b[0meach_acc\u001b[0m\u001b[1;33m)\u001b[0m\u001b[1;33m\u001b[0m\u001b[1;33m\u001b[0m\u001b[0m\n\u001b[1;32m---> 33\u001b[1;33m \u001b[0mfiles\u001b[0m\u001b[1;33m.\u001b[0m\u001b[0mdownload\u001b[0m\u001b[1;33m(\u001b[0m\u001b[0mfile_name\u001b[0m\u001b[1;33m)\u001b[0m\u001b[1;33m\u001b[0m\u001b[1;33m\u001b[0m\u001b[0m\n\u001b[0m\u001b[0;32m     34\u001b[0m \u001b[1;31m## Predicted Ground Truths\u001b[0m\u001b[1;33m\u001b[0m\u001b[1;33m\u001b[0m\u001b[1;33m\u001b[0m\u001b[0m\n\u001b[0;32m     35\u001b[0m \u001b[0moutputs\u001b[0m \u001b[1;33m=\u001b[0m \u001b[0mGT_Plot\u001b[0m\u001b[1;33m(\u001b[0m\u001b[0mRDHSI\u001b[0m\u001b[1;33m,\u001b[0m \u001b[0mGT\u001b[0m\u001b[1;33m,\u001b[0m \u001b[0mmodel\u001b[0m\u001b[1;33m,\u001b[0m \u001b[0mWS\u001b[0m\u001b[1;33m)\u001b[0m\u001b[1;33m\u001b[0m\u001b[1;33m\u001b[0m\u001b[0m\n",
      "\u001b[1;31mNameError\u001b[0m: name 'files' is not defined"
     ]
    }
   ],
   "source": [
    "## 3D CNN Model\n",
    "input_layer = Input((WS, WS, k, 1))\n",
    "conv_layer1 = Conv3D(filters=8, kernel_size=(3, 3, 7), activation='relu')(input_layer)\n",
    "conv_layer2 = Conv3D(filters=16, kernel_size=(3, 3, 5), activation='relu')(conv_layer1)\n",
    "conv_layer3 = Conv3D(filters=32, kernel_size=(3, 3, 3), activation='relu')(conv_layer2)\n",
    "conv_layer4 = Conv3D(filters=64, kernel_size=(3, 3, 3), activation='relu')(conv_layer3)\n",
    "flatten_layer = Flatten()(conv_layer4)\n",
    "dense_layer1 = Dense(units=256, activation='relu')(flatten_layer)\n",
    "dense_layer1 = Dropout(0.4)(dense_layer1)\n",
    "dense_layer2 = Dense(units=128, activation='relu')(dense_layer1)\n",
    "dense_layer2 = Dropout(0.4)(dense_layer2)\n",
    "output_layer = Dense(units=Num_Classes, activation='softmax')(dense_layer2)\n",
    "model = Model(inputs=input_layer, outputs=output_layer)\n",
    "model.summary()\n",
    "# compiling the model\n",
    "model.compile(loss = 'categorical_crossentropy', optimizer = adam, metrics = ['accuracy'])\n",
    "## Fit Model\n",
    "start = time.time()\n",
    "history_3D_CNN = model.fit(x = Tr, y = TrC, batch_size = batch_size, epochs = epochs, validation_data = (Va, VaC))\n",
    "end = time.time()\n",
    "Tr_Time = end - start\n",
    "## Prediction Model\n",
    "start = time.time()\n",
    "Te_Pred = model.predict(Te)\n",
    "end = time.time()\n",
    "Te_Time = end - start\n",
    "## Computing the Accuacy\n",
    "classification,confusion,oa,each_acc,aa,kappa,target_names = ClassificationReports(TeC, Te_Pred)\n",
    "print(classification)\n",
    "## Writing Results in CSV File\n",
    "file_name = str(HSID)+str(WS)+str(DLM)+str(k)+\"_classification_report_3D.csv\"\n",
    "CSV_file = CSVResults(file_name, classification, confusion, Tr_Time, Te_Time, DL_Time, kappa, oa, aa, each_acc)\n",
    "files.download(file_name)\n",
    "## Predicted Ground Truths\n",
    "outputs = GT_Plot(RDHSI, GT, model, WS)\n",
    "file_name = str(HSID)+str(WS)+str(DLM)+str(k)+\"_Ground_Truths_3D_CNN.png\"\n",
    "plt.figure(figsize=(10, 10))\n",
    "plt.imshow(outputs, cmap='nipy_spectral')\n",
    "#plt.colorbar()\n",
    "plt.axis('off')\n",
    "plt.savefig(file_name, dpi=500)\n",
    "files.download(file_name)"
   ]
  },
  {
   "cell_type": "code",
   "execution_count": null,
   "metadata": {},
   "outputs": [],
   "source": []
  }
 ],
 "metadata": {
  "accelerator": "GPU",
  "colab": {
   "collapsed_sections": [],
   "provenance": []
  },
  "kernelspec": {
   "display_name": "Python 3 (ipykernel)",
   "language": "python",
   "name": "python3"
  },
  "language_info": {
   "codemirror_mode": {
    "name": "ipython",
    "version": 3
   },
   "file_extension": ".py",
   "mimetype": "text/x-python",
   "name": "python",
   "nbconvert_exporter": "python",
   "pygments_lexer": "ipython3",
   "version": "3.11.2"
  }
 },
 "nbformat": 4,
 "nbformat_minor": 1
}
